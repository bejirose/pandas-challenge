{
 "cells": [
  {
   "cell_type": "markdown",
   "metadata": {},
   "source": [
    "### Note\n",
    "* Instructions have been included for each segment. You do not have to follow them exactly, but they are included to help you think through the steps."
   ]
  },
  {
   "cell_type": "code",
   "execution_count": 385,
   "metadata": {},
   "outputs": [
    {
     "data": {
      "text/html": [
       "<div>\n",
       "<style scoped>\n",
       "    .dataframe tbody tr th:only-of-type {\n",
       "        vertical-align: middle;\n",
       "    }\n",
       "\n",
       "    .dataframe tbody tr th {\n",
       "        vertical-align: top;\n",
       "    }\n",
       "\n",
       "    .dataframe thead th {\n",
       "        text-align: right;\n",
       "    }\n",
       "</style>\n",
       "<table border=\"1\" class=\"dataframe\">\n",
       "  <thead>\n",
       "    <tr style=\"text-align: right;\">\n",
       "      <th></th>\n",
       "      <th>Student ID</th>\n",
       "      <th>student_name</th>\n",
       "      <th>gender</th>\n",
       "      <th>grade</th>\n",
       "      <th>school_name</th>\n",
       "      <th>reading_score</th>\n",
       "      <th>math_score</th>\n",
       "      <th>School ID</th>\n",
       "      <th>type</th>\n",
       "      <th>size</th>\n",
       "      <th>budget</th>\n",
       "    </tr>\n",
       "  </thead>\n",
       "  <tbody>\n",
       "    <tr>\n",
       "      <th>0</th>\n",
       "      <td>0</td>\n",
       "      <td>Paul Bradley</td>\n",
       "      <td>M</td>\n",
       "      <td>9th</td>\n",
       "      <td>Huang High School</td>\n",
       "      <td>66</td>\n",
       "      <td>79</td>\n",
       "      <td>0</td>\n",
       "      <td>District</td>\n",
       "      <td>2917</td>\n",
       "      <td>1910635</td>\n",
       "    </tr>\n",
       "    <tr>\n",
       "      <th>1</th>\n",
       "      <td>1</td>\n",
       "      <td>Victor Smith</td>\n",
       "      <td>M</td>\n",
       "      <td>12th</td>\n",
       "      <td>Huang High School</td>\n",
       "      <td>94</td>\n",
       "      <td>61</td>\n",
       "      <td>0</td>\n",
       "      <td>District</td>\n",
       "      <td>2917</td>\n",
       "      <td>1910635</td>\n",
       "    </tr>\n",
       "    <tr>\n",
       "      <th>2</th>\n",
       "      <td>2</td>\n",
       "      <td>Kevin Rodriguez</td>\n",
       "      <td>M</td>\n",
       "      <td>12th</td>\n",
       "      <td>Huang High School</td>\n",
       "      <td>90</td>\n",
       "      <td>60</td>\n",
       "      <td>0</td>\n",
       "      <td>District</td>\n",
       "      <td>2917</td>\n",
       "      <td>1910635</td>\n",
       "    </tr>\n",
       "    <tr>\n",
       "      <th>3</th>\n",
       "      <td>3</td>\n",
       "      <td>Dr. Richard Scott</td>\n",
       "      <td>M</td>\n",
       "      <td>12th</td>\n",
       "      <td>Huang High School</td>\n",
       "      <td>67</td>\n",
       "      <td>58</td>\n",
       "      <td>0</td>\n",
       "      <td>District</td>\n",
       "      <td>2917</td>\n",
       "      <td>1910635</td>\n",
       "    </tr>\n",
       "    <tr>\n",
       "      <th>4</th>\n",
       "      <td>4</td>\n",
       "      <td>Bonnie Ray</td>\n",
       "      <td>F</td>\n",
       "      <td>9th</td>\n",
       "      <td>Huang High School</td>\n",
       "      <td>97</td>\n",
       "      <td>84</td>\n",
       "      <td>0</td>\n",
       "      <td>District</td>\n",
       "      <td>2917</td>\n",
       "      <td>1910635</td>\n",
       "    </tr>\n",
       "    <tr>\n",
       "      <th>...</th>\n",
       "      <td>...</td>\n",
       "      <td>...</td>\n",
       "      <td>...</td>\n",
       "      <td>...</td>\n",
       "      <td>...</td>\n",
       "      <td>...</td>\n",
       "      <td>...</td>\n",
       "      <td>...</td>\n",
       "      <td>...</td>\n",
       "      <td>...</td>\n",
       "      <td>...</td>\n",
       "    </tr>\n",
       "    <tr>\n",
       "      <th>39165</th>\n",
       "      <td>39165</td>\n",
       "      <td>Donna Howard</td>\n",
       "      <td>F</td>\n",
       "      <td>12th</td>\n",
       "      <td>Thomas High School</td>\n",
       "      <td>99</td>\n",
       "      <td>90</td>\n",
       "      <td>14</td>\n",
       "      <td>Charter</td>\n",
       "      <td>1635</td>\n",
       "      <td>1043130</td>\n",
       "    </tr>\n",
       "    <tr>\n",
       "      <th>39166</th>\n",
       "      <td>39166</td>\n",
       "      <td>Dawn Bell</td>\n",
       "      <td>F</td>\n",
       "      <td>10th</td>\n",
       "      <td>Thomas High School</td>\n",
       "      <td>95</td>\n",
       "      <td>70</td>\n",
       "      <td>14</td>\n",
       "      <td>Charter</td>\n",
       "      <td>1635</td>\n",
       "      <td>1043130</td>\n",
       "    </tr>\n",
       "    <tr>\n",
       "      <th>39167</th>\n",
       "      <td>39167</td>\n",
       "      <td>Rebecca Tanner</td>\n",
       "      <td>F</td>\n",
       "      <td>9th</td>\n",
       "      <td>Thomas High School</td>\n",
       "      <td>73</td>\n",
       "      <td>84</td>\n",
       "      <td>14</td>\n",
       "      <td>Charter</td>\n",
       "      <td>1635</td>\n",
       "      <td>1043130</td>\n",
       "    </tr>\n",
       "    <tr>\n",
       "      <th>39168</th>\n",
       "      <td>39168</td>\n",
       "      <td>Desiree Kidd</td>\n",
       "      <td>F</td>\n",
       "      <td>10th</td>\n",
       "      <td>Thomas High School</td>\n",
       "      <td>99</td>\n",
       "      <td>90</td>\n",
       "      <td>14</td>\n",
       "      <td>Charter</td>\n",
       "      <td>1635</td>\n",
       "      <td>1043130</td>\n",
       "    </tr>\n",
       "    <tr>\n",
       "      <th>39169</th>\n",
       "      <td>39169</td>\n",
       "      <td>Carolyn Jackson</td>\n",
       "      <td>F</td>\n",
       "      <td>11th</td>\n",
       "      <td>Thomas High School</td>\n",
       "      <td>95</td>\n",
       "      <td>75</td>\n",
       "      <td>14</td>\n",
       "      <td>Charter</td>\n",
       "      <td>1635</td>\n",
       "      <td>1043130</td>\n",
       "    </tr>\n",
       "  </tbody>\n",
       "</table>\n",
       "<p>39170 rows × 11 columns</p>\n",
       "</div>"
      ],
      "text/plain": [
       "       Student ID       student_name gender grade         school_name  \\\n",
       "0               0       Paul Bradley      M   9th   Huang High School   \n",
       "1               1       Victor Smith      M  12th   Huang High School   \n",
       "2               2    Kevin Rodriguez      M  12th   Huang High School   \n",
       "3               3  Dr. Richard Scott      M  12th   Huang High School   \n",
       "4               4         Bonnie Ray      F   9th   Huang High School   \n",
       "...           ...                ...    ...   ...                 ...   \n",
       "39165       39165       Donna Howard      F  12th  Thomas High School   \n",
       "39166       39166          Dawn Bell      F  10th  Thomas High School   \n",
       "39167       39167     Rebecca Tanner      F   9th  Thomas High School   \n",
       "39168       39168       Desiree Kidd      F  10th  Thomas High School   \n",
       "39169       39169    Carolyn Jackson      F  11th  Thomas High School   \n",
       "\n",
       "       reading_score  math_score  School ID      type  size   budget  \n",
       "0                 66          79          0  District  2917  1910635  \n",
       "1                 94          61          0  District  2917  1910635  \n",
       "2                 90          60          0  District  2917  1910635  \n",
       "3                 67          58          0  District  2917  1910635  \n",
       "4                 97          84          0  District  2917  1910635  \n",
       "...              ...         ...        ...       ...   ...      ...  \n",
       "39165             99          90         14   Charter  1635  1043130  \n",
       "39166             95          70         14   Charter  1635  1043130  \n",
       "39167             73          84         14   Charter  1635  1043130  \n",
       "39168             99          90         14   Charter  1635  1043130  \n",
       "39169             95          75         14   Charter  1635  1043130  \n",
       "\n",
       "[39170 rows x 11 columns]"
      ]
     },
     "execution_count": 385,
     "metadata": {},
     "output_type": "execute_result"
    }
   ],
   "source": [
    "# Dependencies and Setup\n",
    "import pandas as pd\n",
    "\n",
    "# File to Load (Remember to Change These)\n",
    "school_data_to_load = \"Resources/schools_complete.csv\"\n",
    "student_data_to_load = \"Resources/students_complete.csv\"\n",
    "\n",
    "# Read School and Student Data File and store into Pandas DataFrames\n",
    "school_data_df = pd.read_csv(school_data_to_load)\n",
    "student_data_df = pd.read_csv(student_data_to_load)\n",
    "\n",
    "# Combine the data into a single dataset.  \n",
    "school_data_complete_df = pd.merge(student_data_df, school_data_df, how=\"left\", on=[\"school_name\", \"school_name\"])\n",
    "\n",
    "#school_data_complete\n",
    "school_data_complete_df"
   ]
  },
  {
   "cell_type": "markdown",
   "metadata": {},
   "source": [
    "## District Summary\n",
    "\n",
    "* Calculate the total number of schools\n",
    "\n",
    "* Calculate the total number of students\n",
    "\n",
    "* Calculate the total budget\n",
    "\n",
    "* Calculate the average math score \n",
    "\n",
    "* Calculate the average reading score\n",
    "\n",
    "* Calculate the percentage of students with a passing math score (70 or greater)\n",
    "\n",
    "* Calculate the percentage of students with a passing reading score (70 or greater)\n",
    "\n",
    "* Calculate the percentage of students who passed math **and** reading (% Overall Passing)\n",
    "\n",
    "* Create a dataframe to hold the above results\n",
    "\n",
    "* Optional: give the displayed data cleaner formatting"
   ]
  },
  {
   "cell_type": "code",
   "execution_count": 386,
   "metadata": {},
   "outputs": [
    {
     "data": {
      "text/html": [
       "<div>\n",
       "<style scoped>\n",
       "    .dataframe tbody tr th:only-of-type {\n",
       "        vertical-align: middle;\n",
       "    }\n",
       "\n",
       "    .dataframe tbody tr th {\n",
       "        vertical-align: top;\n",
       "    }\n",
       "\n",
       "    .dataframe thead th {\n",
       "        text-align: right;\n",
       "    }\n",
       "</style>\n",
       "<table border=\"1\" class=\"dataframe\">\n",
       "  <thead>\n",
       "    <tr style=\"text-align: right;\">\n",
       "      <th></th>\n",
       "      <th>Total Schools</th>\n",
       "      <th>Total Students</th>\n",
       "      <th>Total Budget</th>\n",
       "      <th>Average Math Score</th>\n",
       "      <th>Average Reading Score</th>\n",
       "      <th>% Passing Math</th>\n",
       "      <th>% Passing Reading</th>\n",
       "      <th>% Overall Passing</th>\n",
       "    </tr>\n",
       "  </thead>\n",
       "  <tbody>\n",
       "    <tr>\n",
       "      <th>0</th>\n",
       "      <td>15</td>\n",
       "      <td>39,170</td>\n",
       "      <td>$24,649,428</td>\n",
       "      <td>78.985371</td>\n",
       "      <td>81.87784</td>\n",
       "      <td>74.980853</td>\n",
       "      <td>85.805463</td>\n",
       "      <td>65.172326</td>\n",
       "    </tr>\n",
       "  </tbody>\n",
       "</table>\n",
       "</div>"
      ],
      "text/plain": [
       "   Total Schools Total Students Total Budget  Average Math Score  \\\n",
       "0             15         39,170  $24,649,428           78.985371   \n",
       "\n",
       "   Average Reading Score  % Passing Math  % Passing Reading  % Overall Passing  \n",
       "0               81.87784       74.980853          85.805463          65.172326  "
      ]
     },
     "execution_count": 386,
     "metadata": {},
     "output_type": "execute_result"
    }
   ],
   "source": [
    "#Calculate the total number of schools\n",
    "school_count = school_data_df[\"School ID\"].count()\n",
    "\n",
    "#Calculate the total number of students\n",
    "student_count = student_data_df[\"Student ID\"].count()\n",
    "\n",
    "#Calculate the total budget\n",
    "budget = school_data_df[\"budget\"].sum()\n",
    "\n",
    "#Calculate the average math score\n",
    "math_avg = round(student_data_df[\"math_score\"].mean(),6)\n",
    "\n",
    "#Calculate the average reading score\n",
    "reading_avg = round(student_data_df[\"reading_score\"].mean(),5)\n",
    "\n",
    "#Calculate the percentage of students with a passing math score (70 or greater)\n",
    "math_pass = student_data_df.loc[student_data_df[\"math_score\"] >= 70, \"math_score\"].count() # No. of students with pass score\n",
    "math_percentage =round(math_pass *100 / student_count, 6)   # find the %\n",
    "             \n",
    "#Calculate the percentage of students with a passing reading score (70 or greater)\n",
    "reading_pass = student_data_df.loc[student_data_df[\"reading_score\"] >= 70, \"reading_score\"].count()\n",
    "reading_percentage =round(reading_pass * 100 /student_count, 6)\n",
    "\n",
    "#Calculate the percentage of students who passed math and reading (% Overall Passing)\n",
    "overall_pass = student_data_df.loc[(student_data_df[\"math_score\"] >= 70) & (student_data_df[\"reading_score\"] >= 70), \"math_score\"].count()\n",
    "overall_percentage = round(overall_pass*100/student_count, 6)\n",
    "overall_percentage\n",
    "\n",
    "\n",
    "#Create a dataframe to hold the above results\n",
    "#Optional: give the displayed data cleaner formatting\n",
    "summary_df = pd.DataFrame({\"Total Schools\": [school_count],\n",
    "                           \"Total Students\": f'{student_count:,}', \n",
    "                           \"Total Budget\": f'${budget:,}',\n",
    "                            \"Average Math Score\": math_avg,\n",
    "                            \"Average Reading Score\": reading_avg,\n",
    "                            \"% Passing Math\": math_percentage,\n",
    "                            \"% Passing Reading\" : read_percentage,\n",
    "                            \"% Overall Passing\" : overall_percentage\n",
    "                           })\n",
    "summary_df"
   ]
  },
  {
   "cell_type": "markdown",
   "metadata": {},
   "source": [
    "## School Summary"
   ]
  },
  {
   "cell_type": "markdown",
   "metadata": {},
   "source": [
    "* Create an overview table that summarizes key metrics about each school, including:\n",
    "  * School Name\n",
    "  * School Type\n",
    "  * Total Students\n",
    "  * Total School Budget\n",
    "  * Per Student Budget\n",
    "  * Average Math Score\n",
    "  * Average Reading Score\n",
    "  * % Passing Math\n",
    "  * % Passing Reading\n",
    "  * % Overall Passing (The percentage of students that passed math **and** reading.)\n",
    "  \n",
    "* Create a dataframe to hold the above results"
   ]
  },
  {
   "cell_type": "code",
   "execution_count": 391,
   "metadata": {
    "scrolled": false
   },
   "outputs": [
    {
     "name": "stdout",
     "output_type": "stream",
     "text": [
      "       Student ID       student_name gender grade         school_name  \\\n",
      "0               0       Paul Bradley      M   9th   Huang High School   \n",
      "1               1       Victor Smith      M  12th   Huang High School   \n",
      "2               2    Kevin Rodriguez      M  12th   Huang High School   \n",
      "3               3  Dr. Richard Scott      M  12th   Huang High School   \n",
      "4               4         Bonnie Ray      F   9th   Huang High School   \n",
      "...           ...                ...    ...   ...                 ...   \n",
      "39165       39165       Donna Howard      F  12th  Thomas High School   \n",
      "39166       39166          Dawn Bell      F  10th  Thomas High School   \n",
      "39167       39167     Rebecca Tanner      F   9th  Thomas High School   \n",
      "39168       39168       Desiree Kidd      F  10th  Thomas High School   \n",
      "39169       39169    Carolyn Jackson      F  11th  Thomas High School   \n",
      "\n",
      "       reading_score  math_score  School ID      type  size   budget  \n",
      "0                 66          79          0  District  2917  1910635  \n",
      "1                 94          61          0  District  2917  1910635  \n",
      "2                 90          60          0  District  2917  1910635  \n",
      "3                 67          58          0  District  2917  1910635  \n",
      "4                 97          84          0  District  2917  1910635  \n",
      "...              ...         ...        ...       ...   ...      ...  \n",
      "39165             99          90         14   Charter  1635  1043130  \n",
      "39166             95          70         14   Charter  1635  1043130  \n",
      "39167             73          84         14   Charter  1635  1043130  \n",
      "39168             99          90         14   Charter  1635  1043130  \n",
      "39169             95          75         14   Charter  1635  1043130  \n",
      "\n",
      "[39170 rows x 11 columns]\n",
      "format $24,649,428\n"
     ]
    },
    {
     "ename": "TypeError",
     "evalue": "'DataFrameGroupBy' object does not support item assignment",
     "output_type": "error",
     "traceback": [
      "\u001b[1;31m---------------------------------------------------------------------------\u001b[0m",
      "\u001b[1;31mTypeError\u001b[0m                                 Traceback (most recent call last)",
      "\u001b[1;32m<ipython-input-391-9cfb25d483af>\u001b[0m in \u001b[0;36m<module>\u001b[1;34m\u001b[0m\n\u001b[0;32m     31\u001b[0m \u001b[1;31m#ath_pass = student_data_gp.math_score.apply(lambda x: (x>=70).value_counts(normalize=True))*100/df['School ID'].count()\u001b[0m\u001b[1;33m\u001b[0m\u001b[1;33m\u001b[0m\u001b[1;33m\u001b[0m\u001b[0m\n\u001b[0;32m     32\u001b[0m \u001b[0mmath_pass\u001b[0m \u001b[1;33m=\u001b[0m \u001b[0mround\u001b[0m\u001b[1;33m(\u001b[0m\u001b[0mstudent_data_gp\u001b[0m\u001b[1;33m.\u001b[0m\u001b[0mmath_score\u001b[0m\u001b[1;33m.\u001b[0m\u001b[0mapply\u001b[0m\u001b[1;33m(\u001b[0m\u001b[1;32mlambda\u001b[0m \u001b[0mx\u001b[0m\u001b[1;33m:\u001b[0m \u001b[1;33m(\u001b[0m\u001b[0mx\u001b[0m\u001b[1;33m>=\u001b[0m\u001b[1;36m70\u001b[0m\u001b[1;33m)\u001b[0m\u001b[1;33m.\u001b[0m\u001b[0mvalue_counts\u001b[0m\u001b[1;33m(\u001b[0m\u001b[0mnormalize\u001b[0m\u001b[1;33m=\u001b[0m\u001b[1;32mTrue\u001b[0m\u001b[1;33m)\u001b[0m\u001b[1;33m)\u001b[0m\u001b[1;33m[\u001b[0m\u001b[1;36m0\u001b[0m\u001b[1;33m]\u001b[0m\u001b[1;33m*\u001b[0m\u001b[1;36m100\u001b[0m\u001b[1;33m,\u001b[0m\u001b[1;36m6\u001b[0m\u001b[1;33m)\u001b[0m\u001b[1;33m\u001b[0m\u001b[1;33m\u001b[0m\u001b[0m\n\u001b[1;32m---> 33\u001b[1;33m \u001b[0mstudent_data_gp\u001b[0m\u001b[1;33m[\u001b[0m\u001b[1;34m\"math_pass\"\u001b[0m\u001b[1;33m]\u001b[0m \u001b[1;33m=\u001b[0m \u001b[1;33m(\u001b[0m\u001b[0mstudent_data_gp\u001b[0m\u001b[1;33m.\u001b[0m\u001b[0mmath_score\u001b[0m\u001b[1;33m.\u001b[0m\u001b[0mapply\u001b[0m\u001b[1;33m(\u001b[0m\u001b[1;32mlambda\u001b[0m \u001b[0mx\u001b[0m\u001b[1;33m:\u001b[0m \u001b[1;33m(\u001b[0m\u001b[0mx\u001b[0m\u001b[1;33m>=\u001b[0m\u001b[1;36m70\u001b[0m\u001b[1;33m)\u001b[0m\u001b[1;33m.\u001b[0m\u001b[0mvalue_counts\u001b[0m\u001b[1;33m(\u001b[0m\u001b[0mnormalize\u001b[0m\u001b[1;33m=\u001b[0m\u001b[1;32mTrue\u001b[0m\u001b[1;33m)\u001b[0m\u001b[1;33m)\u001b[0m\u001b[1;33m[\u001b[0m\u001b[1;36m0\u001b[0m\u001b[1;33m]\u001b[0m\u001b[1;33m*\u001b[0m\u001b[1;36m100\u001b[0m\u001b[1;33m)\u001b[0m\u001b[1;33m\u001b[0m\u001b[1;33m\u001b[0m\u001b[0m\n\u001b[0m\u001b[0;32m     34\u001b[0m \u001b[1;31m#math_pass = school_data_gp[\"math_score\"].apply(lambda x: (x>=70).value_counts(normalize=True))*100/df['School ID'].count()\u001b[0m\u001b[1;33m\u001b[0m\u001b[1;33m\u001b[0m\u001b[1;33m\u001b[0m\u001b[0m\n\u001b[0;32m     35\u001b[0m \u001b[0mprint\u001b[0m\u001b[1;33m(\u001b[0m \u001b[1;34m\"kfldkflkdfkd\"\u001b[0m\u001b[1;33m)\u001b[0m\u001b[1;33m\u001b[0m\u001b[1;33m\u001b[0m\u001b[0m\n",
      "\u001b[1;31mTypeError\u001b[0m: 'DataFrameGroupBy' object does not support item assignment"
     ]
    }
   ],
   "source": [
    "#school_data_complete_df[\"school_name\"].unique\n",
    "#df = school_data_complete_df.groupby(\"school_name\")\n",
    "#school_count = school_data_complete_df['School ID'].nunique()\n",
    "#df = school_data_complete_df.groupby(\"school_name\")\n",
    "#student_count = df['School ID'].nunique()\n",
    "#print(school_count)\n",
    "#student_count = df['Student ID'].nunique()\n",
    "#count = school_data_complete_df[\"School ID\"].unique().counts()\n",
    "#print(student_count)\n",
    "#Calculate the average math score\n",
    "\n",
    "#g = school_data_df.groupby(\"school_name\")\n",
    "#print (\"hjhgfhgjhfjhg\")\n",
    "#print(g[\"budget\"].sum())\n",
    "#print (\"hjhgfhgjhfjhg\")\n",
    "\n",
    "print(school_data_complete_df)\n",
    "df = school_data_complete_df.groupby(\"school_name\")\n",
    "school_data_gp = school_data_df.groupby(\"school_name\")\n",
    "student_data_gp = student_data_df.groupby(\"school_name\")\n",
    "student_data_math_gp = student_data_df.groupby([\"school_name\", \"math_score\"])\n",
    "\n",
    "#summary_df = df.sum()\n",
    "#print(f'format {df[\"budget\"].sum():,.2f}')\n",
    "print(f'format ${school_data_df[\"budget\"].sum():,}')\n",
    "#math_pass = student_data_gp.loc[student_data_df[\"math_score\"] >= 70, \"math_score\"].count() # No. of students with pass score\n",
    "math_percentage =round(math_pass *100 / student_count, 6)   # find the %\n",
    "\n",
    "#school_summary1 = pyschool.groupby(['school_name', 'type'])\n",
    "\n",
    "#ath_pass = student_data_gp.math_score.apply(lambda x: (x>=70).value_counts(normalize=True))*100/df['School ID'].count()\n",
    "math_pass = round(student_data_gp.math_score.apply(lambda x: (x>=70).value_counts(normalize=True))[0]*100,6)\n",
    "student_data_gp[\"math_pass\"] = (student_data_gp.math_score.apply(lambda x: (x>=70).value_counts(normalize=True))[0]*100)\n",
    "#math_pass = school_data_gp[\"math_score\"].apply(lambda x: (x>=70).value_counts(normalize=True))*100/df['School ID'].count()\n",
    "print( \"kfldkflkdfkd\")\n",
    "print( student_data_gp[\"math_pass\"])\n",
    "print( \"kfldkflkdfkd\")\n",
    "#ath1 = math_pass.to_frame().reset_index()\n",
    "#rint( math1)\n",
    "#s_pass_math1 = s_pass_math.to_frame().reset_index()\n",
    "#s_pass_read = school_summary1.reading_score.apply(lambda x: (x>=70).value_counts(normalize=True))*100\n",
    "#s_pass_read1 = s_pass_read.to_frame().reset_index()\n",
    "#s_pass_read1\n",
    "\n",
    "def overall():\n",
    "    \n",
    "    math_bool = student_data_gp.math_score.apply(lambda x: (x>=70))\n",
    "    print(\"dff\")\n",
    "    print(math_bool)\n",
    "    #if 6>5:\n",
    "    #if math_bool:\n",
    "    print(\"dff : count\")\n",
    "    count = round(student_data_gp.reading_score.apply(lambda x: (x>=70).value_counts(normalize=True))[0]*100,6)\n",
    "        \n",
    "    print(count)\n",
    "   # if (student_data_gp.math_score.value_counts() >= 70 ):\n",
    "       # if (student_data_gp.reading_score.value_counts() >= 70):\n",
    "    school_summary_df[\"% Overall Passing\"] = count\n",
    "        #return count\n",
    "    #else:\n",
    "      #  return 0\n",
    "    # Add elif statements....\n",
    "\n",
    "#rint(math_pass )\n",
    "print(student_data_gp.sum() )\n",
    "print('The first')\n",
    "\n",
    "school_summary_df = pd.DataFrame({\"School Type\": df['type'].unique(),\n",
    "                                  \"Total Students\": df['School ID'].count(),\n",
    "                                  \"Total budget\": (school_data_gp['budget'].sum()/df['School ID'].count()).map('${:,.2f}'.format),\n",
    "                                  \"Total School Budget\": school_data_gp[\"budget\"].sum().map('${:,.2f}'.format), \n",
    "                                 # \"Total School Budget\": f'format ${school_data_gp[\"budget\"].sum():,.2f}',\n",
    "                                  \"Per Student Budget\": (school_data_gp['budget'].sum()/df['School ID'].count()).map('${:,.2f}'.format),\n",
    "                                  \"Average Math Score\": (student_data_gp['math_score'].sum()/df['School ID'].count()),\n",
    "                                  \"Average Reading Score\": (student_data_gp['reading_score'].sum()/df['School ID'].count()),\n",
    "                                  \"% Passing Math\": round(student_data_gp.math_score.apply(lambda x: (x>=70).value_counts(normalize=True))[0]*100,6),\n",
    "                                  \"% Passing Reading\": round(student_data_gp.reading_score.apply(lambda x: (x>=70).value_counts(normalize=True))[0]*100,6),\n",
    "                                 # \"% Overall Passing\": round(student_data_gp[\"math_score\"].apply(lambda x: (x>=70).value_counts(normalize=True))[0]*100,6),\n",
    "                                 \"% Overall Passing\": overall()                                  \n",
    "                                 })\n",
    "overall()\n",
    "school_summary_df"
   ]
  },
  {
   "cell_type": "markdown",
   "metadata": {},
   "source": [
    "## Top Performing Schools (By % Overall Passing)"
   ]
  },
  {
   "cell_type": "markdown",
   "metadata": {},
   "source": [
    "* Sort and display the top five performing schools by % overall passing."
   ]
  },
  {
   "cell_type": "code",
   "execution_count": null,
   "metadata": {
    "scrolled": true
   },
   "outputs": [],
   "source": []
  },
  {
   "cell_type": "markdown",
   "metadata": {},
   "source": [
    "## Bottom Performing Schools (By % Overall Passing)"
   ]
  },
  {
   "cell_type": "markdown",
   "metadata": {},
   "source": [
    "* Sort and display the five worst-performing schools by % overall passing."
   ]
  },
  {
   "cell_type": "code",
   "execution_count": null,
   "metadata": {},
   "outputs": [],
   "source": []
  },
  {
   "cell_type": "markdown",
   "metadata": {
    "collapsed": true
   },
   "source": [
    "## Math Scores by Grade"
   ]
  },
  {
   "cell_type": "markdown",
   "metadata": {},
   "source": [
    "* Create a table that lists the average Reading Score for students of each grade level (9th, 10th, 11th, 12th) at each school.\n",
    "\n",
    "  * Create a pandas series for each grade. Hint: use a conditional statement.\n",
    "  \n",
    "  * Group each series by school\n",
    "  \n",
    "  * Combine the series into a dataframe\n",
    "  \n",
    "  * Optional: give the displayed data cleaner formatting"
   ]
  },
  {
   "cell_type": "code",
   "execution_count": null,
   "metadata": {},
   "outputs": [],
   "source": []
  },
  {
   "cell_type": "markdown",
   "metadata": {},
   "source": [
    "## Reading Score by Grade "
   ]
  },
  {
   "cell_type": "markdown",
   "metadata": {},
   "source": [
    "* Perform the same operations as above for reading scores"
   ]
  },
  {
   "cell_type": "code",
   "execution_count": null,
   "metadata": {},
   "outputs": [],
   "source": []
  },
  {
   "cell_type": "markdown",
   "metadata": {},
   "source": [
    "## Scores by School Spending"
   ]
  },
  {
   "cell_type": "markdown",
   "metadata": {},
   "source": [
    "* Create a table that breaks down school performances based on average Spending Ranges (Per Student). Use 4 reasonable bins to group school spending. Include in the table each of the following:\n",
    "  * Average Math Score\n",
    "  * Average Reading Score\n",
    "  * % Passing Math\n",
    "  * % Passing Reading\n",
    "  * Overall Passing Rate (Average of the above two)"
   ]
  },
  {
   "cell_type": "code",
   "execution_count": null,
   "metadata": {},
   "outputs": [],
   "source": []
  },
  {
   "cell_type": "markdown",
   "metadata": {},
   "source": [
    "## Scores by School Size"
   ]
  },
  {
   "cell_type": "markdown",
   "metadata": {},
   "source": [
    "* Perform the same operations as above, based on school size."
   ]
  },
  {
   "cell_type": "code",
   "execution_count": null,
   "metadata": {
    "scrolled": true
   },
   "outputs": [],
   "source": []
  },
  {
   "cell_type": "markdown",
   "metadata": {},
   "source": [
    "## Scores by School Type"
   ]
  },
  {
   "cell_type": "markdown",
   "metadata": {},
   "source": [
    "* Perform the same operations as above, based on school type"
   ]
  },
  {
   "cell_type": "code",
   "execution_count": null,
   "metadata": {},
   "outputs": [],
   "source": []
  },
  {
   "cell_type": "code",
   "execution_count": null,
   "metadata": {},
   "outputs": [],
   "source": []
  }
 ],
 "metadata": {
  "anaconda-cloud": {},
  "kernel_info": {
   "name": "python3"
  },
  "kernelspec": {
   "display_name": "Python 3",
   "language": "python",
   "name": "python3"
  },
  "language_info": {
   "codemirror_mode": {
    "name": "ipython",
    "version": 3
   },
   "file_extension": ".py",
   "mimetype": "text/x-python",
   "name": "python",
   "nbconvert_exporter": "python",
   "pygments_lexer": "ipython3",
   "version": "3.8.2"
  },
  "latex_envs": {
   "LaTeX_envs_menu_present": true,
   "autoclose": false,
   "autocomplete": true,
   "bibliofile": "biblio.bib",
   "cite_by": "apalike",
   "current_citInitial": 1,
   "eqLabelWithNumbers": true,
   "eqNumInitial": 1,
   "hotkeys": {
    "equation": "Ctrl-E",
    "itemize": "Ctrl-I"
   },
   "labels_anchors": false,
   "latex_user_defs": false,
   "report_style_numbering": false,
   "user_envs_cfg": false
  },
  "nteract": {
   "version": "0.8.4"
  }
 },
 "nbformat": 4,
 "nbformat_minor": 1
}
